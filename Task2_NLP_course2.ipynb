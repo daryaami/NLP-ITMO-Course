{
  "cells": [
    {
      "cell_type": "markdown",
      "metadata": {
        "id": "view-in-github",
        "colab_type": "text"
      },
      "source": [
        "<a href=\"https://colab.research.google.com/github/daryaami/NLP-ITMO-Course/blob/Task2/Task2_NLP_course2.ipynb\" target=\"_parent\"><img src=\"https://colab.research.google.com/assets/colab-badge.svg\" alt=\"Open In Colab\"/></a>"
      ]
    },
    {
      "cell_type": "markdown",
      "metadata": {
        "id": "wCj8VyUqV8KW"
      },
      "source": [
        "# Задание 2. Курс \"Анализ естественного языка методами машинного обучения\""
      ]
    },
    {
      "cell_type": "markdown",
      "metadata": {
        "id": "aUW2gc4UWGx8"
      },
      "source": [
        "Для анализа был выбран датасет [\"News Articles Classification Dataset for NLP & ML\"](https://www.kaggle.com/datasets/banuprakashv/news-articles-classification-dataset-for-nlp-and-ml) с платформы Kaggle.\n",
        "Этот набор данных предлагает обширную коллекцию новостных статей, охватывающих различные области, включая бизнес, технологии, спорт, образование и развлечения.\n",
        "\n",
        "Для этого датасета мы будем решать задачу суммаризации новостей, используя метрики BLEU и ROUGE для оценки качества модели"
      ]
    },
    {
      "cell_type": "markdown",
      "metadata": {
        "id": "PRq-EDBpU4yi"
      },
      "source": [
        "## Импорт библиотек и датасета"
      ]
    },
    {
      "cell_type": "code",
      "execution_count": 1,
      "metadata": {
        "colab": {
          "base_uri": "https://localhost:8080/"
        },
        "id": "h_uCqRp0CqP7",
        "outputId": "c117ea41-6a82-48ed-82a0-2a008dd936a7"
      },
      "outputs": [
        {
          "output_type": "stream",
          "name": "stderr",
          "text": [
            "[nltk_data] Downloading package punkt to /root/nltk_data...\n",
            "[nltk_data]   Package punkt is already up-to-date!\n",
            "[nltk_data] Downloading package stopwords to /root/nltk_data...\n",
            "[nltk_data]   Package stopwords is already up-to-date!\n",
            "[nltk_data] Downloading package wordnet to /root/nltk_data...\n",
            "[nltk_data]   Package wordnet is already up-to-date!\n"
          ]
        },
        {
          "output_type": "execute_result",
          "data": {
            "text/plain": [
              "True"
            ]
          },
          "metadata": {},
          "execution_count": 1
        }
      ],
      "source": [
        "import os\n",
        "import nltk\n",
        "import pandas as pd\n",
        "from sklearn.model_selection import train_test_split\n",
        "import torch\n",
        "from nltk.translate.bleu_score import sentence_bleu\n",
        "nltk.download('punkt')\n",
        "nltk.download('stopwords')\n",
        "nltk.download('wordnet')"
      ]
    },
    {
      "cell_type": "code",
      "execution_count": 2,
      "metadata": {
        "colab": {
          "base_uri": "https://localhost:8080/"
        },
        "id": "UpCI3TNZTlqg",
        "outputId": "152e95ca-1cd7-4de0-c5b9-4c1639c56043"
      },
      "outputs": [
        {
          "output_type": "stream",
          "name": "stdout",
          "text": [
            "['education_data.csv', 'sports_data.csv', 'technology_data.csv', 'business_data.csv', 'entertainment_data.csv']\n"
          ]
        }
      ],
      "source": [
        "paths = []\n",
        "\n",
        "folder_path = '/content'\n",
        "files_and_folders = os.listdir(folder_path)\n",
        "paths = [file for file in files_and_folders if os.path.isfile(os.path.join(folder_path, file)) and file.endswith('.csv')]\n",
        "\n",
        "print(paths)"
      ]
    },
    {
      "cell_type": "code",
      "execution_count": 3,
      "metadata": {
        "colab": {
          "base_uri": "https://localhost:8080/",
          "height": 597
        },
        "id": "oapk8B5CTlqj",
        "outputId": "03db17ca-8efe-48b7-b73f-964706874410"
      },
      "outputs": [
        {
          "output_type": "execute_result",
          "data": {
            "text/plain": [
              "                                                content  \\\n",
              "0     The Common University Entrance Test Postgradua...   \n",
              "1     Less than a year after the Oxford University s...   \n",
              "2     Student enrollments in Computer Engineering ha...   \n",
              "3     The New Delhi Municipal Council (NDMC) is invi...   \n",
              "4     Bachelor of Arts (BA) courses had the highest ...   \n",
              "...                                                 ...   \n",
              "9995  Katrina Kaif’s father-in-law, Sham Kaushal, is...   \n",
              "9996  Months after the release of the Prabhas and Kr...   \n",
              "9997  Farah Khan Kunder made her debut as a choreogr...   \n",
              "9998  Salman Khan and Katrina Kaif starrer Tiger 3 w...   \n",
              "9999  Actor Emraan Hashmi’s turn as the menacing vil...   \n",
              "\n",
              "                                            description  \n",
              "0     CUET PG 2024: UGC said that the list of partic...  \n",
              "1     On April 10, 2023 TCS had announced that it ha...  \n",
              "2     AISHE Report 2021-22: The enrollment in STEM (...  \n",
              "3     The coaching partner will also provide up-to-d...  \n",
              "4     AISHE Report 2021-22: For programmes including...  \n",
              "...                                                 ...  \n",
              "9995  Katrina Kaif played the role of Zoya in Tiger ...  \n",
              "9996  Manoj Muntashir also defended the Adipurush di...  \n",
              "9997  Farah Khan started her career as a choreograph...  \n",
              "9998  Tiger 3 box office collection Day 6 early esti...  \n",
              "9999  Emraan Hashmi plays the villain Aatish in Salm...  \n",
              "\n",
              "[10000 rows x 2 columns]"
            ],
            "text/html": [
              "\n",
              "  <div id=\"df-76ddfa4a-bfcf-460a-8904-1f7336cdc17a\" class=\"colab-df-container\">\n",
              "    <div>\n",
              "<style scoped>\n",
              "    .dataframe tbody tr th:only-of-type {\n",
              "        vertical-align: middle;\n",
              "    }\n",
              "\n",
              "    .dataframe tbody tr th {\n",
              "        vertical-align: top;\n",
              "    }\n",
              "\n",
              "    .dataframe thead th {\n",
              "        text-align: right;\n",
              "    }\n",
              "</style>\n",
              "<table border=\"1\" class=\"dataframe\">\n",
              "  <thead>\n",
              "    <tr style=\"text-align: right;\">\n",
              "      <th></th>\n",
              "      <th>content</th>\n",
              "      <th>description</th>\n",
              "    </tr>\n",
              "  </thead>\n",
              "  <tbody>\n",
              "    <tr>\n",
              "      <th>0</th>\n",
              "      <td>The Common University Entrance Test Postgradua...</td>\n",
              "      <td>CUET PG 2024: UGC said that the list of partic...</td>\n",
              "    </tr>\n",
              "    <tr>\n",
              "      <th>1</th>\n",
              "      <td>Less than a year after the Oxford University s...</td>\n",
              "      <td>On April 10, 2023 TCS had announced that it ha...</td>\n",
              "    </tr>\n",
              "    <tr>\n",
              "      <th>2</th>\n",
              "      <td>Student enrollments in Computer Engineering ha...</td>\n",
              "      <td>AISHE Report 2021-22: The enrollment in STEM (...</td>\n",
              "    </tr>\n",
              "    <tr>\n",
              "      <th>3</th>\n",
              "      <td>The New Delhi Municipal Council (NDMC) is invi...</td>\n",
              "      <td>The coaching partner will also provide up-to-d...</td>\n",
              "    </tr>\n",
              "    <tr>\n",
              "      <th>4</th>\n",
              "      <td>Bachelor of Arts (BA) courses had the highest ...</td>\n",
              "      <td>AISHE Report 2021-22: For programmes including...</td>\n",
              "    </tr>\n",
              "    <tr>\n",
              "      <th>...</th>\n",
              "      <td>...</td>\n",
              "      <td>...</td>\n",
              "    </tr>\n",
              "    <tr>\n",
              "      <th>9995</th>\n",
              "      <td>Katrina Kaif’s father-in-law, Sham Kaushal, is...</td>\n",
              "      <td>Katrina Kaif played the role of Zoya in Tiger ...</td>\n",
              "    </tr>\n",
              "    <tr>\n",
              "      <th>9996</th>\n",
              "      <td>Months after the release of the Prabhas and Kr...</td>\n",
              "      <td>Manoj Muntashir also defended the Adipurush di...</td>\n",
              "    </tr>\n",
              "    <tr>\n",
              "      <th>9997</th>\n",
              "      <td>Farah Khan Kunder made her debut as a choreogr...</td>\n",
              "      <td>Farah Khan started her career as a choreograph...</td>\n",
              "    </tr>\n",
              "    <tr>\n",
              "      <th>9998</th>\n",
              "      <td>Salman Khan and Katrina Kaif starrer Tiger 3 w...</td>\n",
              "      <td>Tiger 3 box office collection Day 6 early esti...</td>\n",
              "    </tr>\n",
              "    <tr>\n",
              "      <th>9999</th>\n",
              "      <td>Actor Emraan Hashmi’s turn as the menacing vil...</td>\n",
              "      <td>Emraan Hashmi plays the villain Aatish in Salm...</td>\n",
              "    </tr>\n",
              "  </tbody>\n",
              "</table>\n",
              "<p>10000 rows × 2 columns</p>\n",
              "</div>\n",
              "    <div class=\"colab-df-buttons\">\n",
              "\n",
              "  <div class=\"colab-df-container\">\n",
              "    <button class=\"colab-df-convert\" onclick=\"convertToInteractive('df-76ddfa4a-bfcf-460a-8904-1f7336cdc17a')\"\n",
              "            title=\"Convert this dataframe to an interactive table.\"\n",
              "            style=\"display:none;\">\n",
              "\n",
              "  <svg xmlns=\"http://www.w3.org/2000/svg\" height=\"24px\" viewBox=\"0 -960 960 960\">\n",
              "    <path d=\"M120-120v-720h720v720H120Zm60-500h600v-160H180v160Zm220 220h160v-160H400v160Zm0 220h160v-160H400v160ZM180-400h160v-160H180v160Zm440 0h160v-160H620v160ZM180-180h160v-160H180v160Zm440 0h160v-160H620v160Z\"/>\n",
              "  </svg>\n",
              "    </button>\n",
              "\n",
              "  <style>\n",
              "    .colab-df-container {\n",
              "      display:flex;\n",
              "      gap: 12px;\n",
              "    }\n",
              "\n",
              "    .colab-df-convert {\n",
              "      background-color: #E8F0FE;\n",
              "      border: none;\n",
              "      border-radius: 50%;\n",
              "      cursor: pointer;\n",
              "      display: none;\n",
              "      fill: #1967D2;\n",
              "      height: 32px;\n",
              "      padding: 0 0 0 0;\n",
              "      width: 32px;\n",
              "    }\n",
              "\n",
              "    .colab-df-convert:hover {\n",
              "      background-color: #E2EBFA;\n",
              "      box-shadow: 0px 1px 2px rgba(60, 64, 67, 0.3), 0px 1px 3px 1px rgba(60, 64, 67, 0.15);\n",
              "      fill: #174EA6;\n",
              "    }\n",
              "\n",
              "    .colab-df-buttons div {\n",
              "      margin-bottom: 4px;\n",
              "    }\n",
              "\n",
              "    [theme=dark] .colab-df-convert {\n",
              "      background-color: #3B4455;\n",
              "      fill: #D2E3FC;\n",
              "    }\n",
              "\n",
              "    [theme=dark] .colab-df-convert:hover {\n",
              "      background-color: #434B5C;\n",
              "      box-shadow: 0px 1px 3px 1px rgba(0, 0, 0, 0.15);\n",
              "      filter: drop-shadow(0px 1px 2px rgba(0, 0, 0, 0.3));\n",
              "      fill: #FFFFFF;\n",
              "    }\n",
              "  </style>\n",
              "\n",
              "    <script>\n",
              "      const buttonEl =\n",
              "        document.querySelector('#df-76ddfa4a-bfcf-460a-8904-1f7336cdc17a button.colab-df-convert');\n",
              "      buttonEl.style.display =\n",
              "        google.colab.kernel.accessAllowed ? 'block' : 'none';\n",
              "\n",
              "      async function convertToInteractive(key) {\n",
              "        const element = document.querySelector('#df-76ddfa4a-bfcf-460a-8904-1f7336cdc17a');\n",
              "        const dataTable =\n",
              "          await google.colab.kernel.invokeFunction('convertToInteractive',\n",
              "                                                    [key], {});\n",
              "        if (!dataTable) return;\n",
              "\n",
              "        const docLinkHtml = 'Like what you see? Visit the ' +\n",
              "          '<a target=\"_blank\" href=https://colab.research.google.com/notebooks/data_table.ipynb>data table notebook</a>'\n",
              "          + ' to learn more about interactive tables.';\n",
              "        element.innerHTML = '';\n",
              "        dataTable['output_type'] = 'display_data';\n",
              "        await google.colab.output.renderOutput(dataTable, element);\n",
              "        const docLink = document.createElement('div');\n",
              "        docLink.innerHTML = docLinkHtml;\n",
              "        element.appendChild(docLink);\n",
              "      }\n",
              "    </script>\n",
              "  </div>\n",
              "\n",
              "\n",
              "<div id=\"df-b59a4bbd-8762-41cb-8e90-f31d42a363b5\">\n",
              "  <button class=\"colab-df-quickchart\" onclick=\"quickchart('df-b59a4bbd-8762-41cb-8e90-f31d42a363b5')\"\n",
              "            title=\"Suggest charts\"\n",
              "            style=\"display:none;\">\n",
              "\n",
              "<svg xmlns=\"http://www.w3.org/2000/svg\" height=\"24px\"viewBox=\"0 0 24 24\"\n",
              "     width=\"24px\">\n",
              "    <g>\n",
              "        <path d=\"M19 3H5c-1.1 0-2 .9-2 2v14c0 1.1.9 2 2 2h14c1.1 0 2-.9 2-2V5c0-1.1-.9-2-2-2zM9 17H7v-7h2v7zm4 0h-2V7h2v10zm4 0h-2v-4h2v4z\"/>\n",
              "    </g>\n",
              "</svg>\n",
              "  </button>\n",
              "\n",
              "<style>\n",
              "  .colab-df-quickchart {\n",
              "      --bg-color: #E8F0FE;\n",
              "      --fill-color: #1967D2;\n",
              "      --hover-bg-color: #E2EBFA;\n",
              "      --hover-fill-color: #174EA6;\n",
              "      --disabled-fill-color: #AAA;\n",
              "      --disabled-bg-color: #DDD;\n",
              "  }\n",
              "\n",
              "  [theme=dark] .colab-df-quickchart {\n",
              "      --bg-color: #3B4455;\n",
              "      --fill-color: #D2E3FC;\n",
              "      --hover-bg-color: #434B5C;\n",
              "      --hover-fill-color: #FFFFFF;\n",
              "      --disabled-bg-color: #3B4455;\n",
              "      --disabled-fill-color: #666;\n",
              "  }\n",
              "\n",
              "  .colab-df-quickchart {\n",
              "    background-color: var(--bg-color);\n",
              "    border: none;\n",
              "    border-radius: 50%;\n",
              "    cursor: pointer;\n",
              "    display: none;\n",
              "    fill: var(--fill-color);\n",
              "    height: 32px;\n",
              "    padding: 0;\n",
              "    width: 32px;\n",
              "  }\n",
              "\n",
              "  .colab-df-quickchart:hover {\n",
              "    background-color: var(--hover-bg-color);\n",
              "    box-shadow: 0 1px 2px rgba(60, 64, 67, 0.3), 0 1px 3px 1px rgba(60, 64, 67, 0.15);\n",
              "    fill: var(--button-hover-fill-color);\n",
              "  }\n",
              "\n",
              "  .colab-df-quickchart-complete:disabled,\n",
              "  .colab-df-quickchart-complete:disabled:hover {\n",
              "    background-color: var(--disabled-bg-color);\n",
              "    fill: var(--disabled-fill-color);\n",
              "    box-shadow: none;\n",
              "  }\n",
              "\n",
              "  .colab-df-spinner {\n",
              "    border: 2px solid var(--fill-color);\n",
              "    border-color: transparent;\n",
              "    border-bottom-color: var(--fill-color);\n",
              "    animation:\n",
              "      spin 1s steps(1) infinite;\n",
              "  }\n",
              "\n",
              "  @keyframes spin {\n",
              "    0% {\n",
              "      border-color: transparent;\n",
              "      border-bottom-color: var(--fill-color);\n",
              "      border-left-color: var(--fill-color);\n",
              "    }\n",
              "    20% {\n",
              "      border-color: transparent;\n",
              "      border-left-color: var(--fill-color);\n",
              "      border-top-color: var(--fill-color);\n",
              "    }\n",
              "    30% {\n",
              "      border-color: transparent;\n",
              "      border-left-color: var(--fill-color);\n",
              "      border-top-color: var(--fill-color);\n",
              "      border-right-color: var(--fill-color);\n",
              "    }\n",
              "    40% {\n",
              "      border-color: transparent;\n",
              "      border-right-color: var(--fill-color);\n",
              "      border-top-color: var(--fill-color);\n",
              "    }\n",
              "    60% {\n",
              "      border-color: transparent;\n",
              "      border-right-color: var(--fill-color);\n",
              "    }\n",
              "    80% {\n",
              "      border-color: transparent;\n",
              "      border-right-color: var(--fill-color);\n",
              "      border-bottom-color: var(--fill-color);\n",
              "    }\n",
              "    90% {\n",
              "      border-color: transparent;\n",
              "      border-bottom-color: var(--fill-color);\n",
              "    }\n",
              "  }\n",
              "</style>\n",
              "\n",
              "  <script>\n",
              "    async function quickchart(key) {\n",
              "      const quickchartButtonEl =\n",
              "        document.querySelector('#' + key + ' button');\n",
              "      quickchartButtonEl.disabled = true;  // To prevent multiple clicks.\n",
              "      quickchartButtonEl.classList.add('colab-df-spinner');\n",
              "      try {\n",
              "        const charts = await google.colab.kernel.invokeFunction(\n",
              "            'suggestCharts', [key], {});\n",
              "      } catch (error) {\n",
              "        console.error('Error during call to suggestCharts:', error);\n",
              "      }\n",
              "      quickchartButtonEl.classList.remove('colab-df-spinner');\n",
              "      quickchartButtonEl.classList.add('colab-df-quickchart-complete');\n",
              "    }\n",
              "    (() => {\n",
              "      let quickchartButtonEl =\n",
              "        document.querySelector('#df-b59a4bbd-8762-41cb-8e90-f31d42a363b5 button');\n",
              "      quickchartButtonEl.style.display =\n",
              "        google.colab.kernel.accessAllowed ? 'block' : 'none';\n",
              "    })();\n",
              "  </script>\n",
              "</div>\n",
              "    </div>\n",
              "  </div>\n"
            ],
            "application/vnd.google.colaboratory.intrinsic+json": {
              "type": "dataframe",
              "variable_name": "data",
              "summary": "{\n  \"name\": \"data\",\n  \"rows\": 10000,\n  \"fields\": [\n    {\n      \"column\": \"content\",\n      \"properties\": {\n        \"dtype\": \"string\",\n        \"num_unique_values\": 9991,\n        \"samples\": [\n          \"Spotify users in Europe can start to buy audiobooks and subscription plans from within the music-streaming app from March as a result of the region\\u2019s new competition law for Big Tech, the Swedish company said on Wednesday.\\nThe move will help the company avoid Apple\\u2019s 30% fee for purchases through its App Store, which has long been a source of contention between app developers and the tech giant.\\nSpotify has for years been embroiled in a legal battle, alleging that it was forced to raise the price of its monthly subscriptions to cover costs tied to Apple\\u2019s App Store rules.\\nU.S.-listed shares of the Stockholm-based company rose around 2%.\\nAlso Read | What are smart rings and should you pick one over a fitness tracker?\\n\\u201cFor years Apple had these rules where we couldn\\u2019t tell you about offers, how much something costs, or even where or how to buy it,\\u201d Spotify said in a blogpost.\\n\\u201cThe DMA (Digital Markets Act) means that we\\u2019ll finally be able to share details about deals, promotions, and better-value payment options in the EU.\\u201d\\nUnder the DMA, which all Big Tech firms must comply with by March 7, companies are obligated to treat their own products and services like they do rivals\\u2019.\\nADVERTISEMENT\\nApple plans to challenge the European Union\\u2019s decision to put all of App Store into the bloc\\u2019s new digital antitrust list, Bloomberg News had reported in November.\\nOn Tuesday, Apple asked a London tribunal to throw out a mass lawsuit worth around $1 billion brought on behalf of more than 1,500 app developers over its App Store rules.\\nApple had also drawn criticism from Meta Platforms CEO Mark Zuckerberg who called App Store policies and fee structure as problematic and causing a conflict of interest.\\n\\u201cWe\\u2019ve always been interested in helping developers distribute their apps, and new options would add more competition in this space,\\u201d Meta said on Wednesday.\\nADVERTISEMENT\\n\\u201cDevelopers deserve more ways to easily get their apps to the people that want them.\\u201d\",\n          \"Shares of Jio Financial Services Ltd (JFSL), demerged from Reliance Industries, closed at 5 per cent lower circuit in trading debut on Monday. JFSL shares settled at Rs 251.75 a share on the BSE and at Rs 248.9 per share on the NSE.\\nThe stock got listed at Rs 265 per share on the BSE and Rs 262 apiece on the NSE against the discovered price of Rs 261.85 apiece in a special pre-open session last month. It is the 31st constituent in the Sensex and the 51st constituent in the Nifty50.\",\n          \"SWAYAM January 2023 Result: The NTA has announced the Study Webs of Active Learning for Young Aspiring Minds, or SWAYAM, January 2023 semester exam results. The SWAYAM January 2023 result can be checked and downloaded from the NTA website \\u2013 swayam.nta.ac.in and at swayam.ntaonline.in. \\nThe National Testing Agency (NTA) conducted the SWAYAM January 2023 semester exam between October 19 and 21 in six sessions at 102 centres in 77 cities across the country. \\nRegister to continue reading this story\\nGoogle\\nFacebook\\nEmail\\nAlready have an account? Sign in\"\n        ],\n        \"semantic_type\": \"\",\n        \"description\": \"\"\n      }\n    },\n    {\n      \"column\": \"description\",\n      \"properties\": {\n        \"dtype\": \"string\",\n        \"num_unique_values\": 9978,\n        \"samples\": [\n          \"With the right combination of exchange offers and cashbacks, you can save plenty on Apple's latest products.\",\n          \"FMCG major Nestle India Ltd on Thursday reported an increase of 36.86 per cent in its net profit at Rs 698.34 crore for the second quarter ended June 30, 2023.\",\n          \"\\u201cThere are approximately 4,000 claims remaining to be decided but a majority have been decided. This has given substantial relief to a number of MSMEs. Also, this makes them eligible for further credit, for further supply,\\u201d he said.\"\n        ],\n        \"semantic_type\": \"\",\n        \"description\": \"\"\n      }\n    }\n  ]\n}"
            }
          },
          "metadata": {},
          "execution_count": 3
        }
      ],
      "source": [
        "data = pd.DataFrame(columns=['headlines', 'description', 'content', 'url', 'category'])\n",
        "\n",
        "for path in paths:\n",
        "    data = pd.concat([data, pd.read_csv(path)])\n",
        "\n",
        "assert (len(paths) != 0), 'Data is empty'\n",
        "\n",
        "data = data[['content', 'description']].reset_index(drop=True)\n",
        "data"
      ]
    },
    {
      "cell_type": "markdown",
      "source": [
        "## Предобработка"
      ],
      "metadata": {
        "id": "dyydnDDRgGm8"
      }
    },
    {
      "cell_type": "code",
      "execution_count": 4,
      "metadata": {
        "id": "-sLYdq1_1aRB"
      },
      "outputs": [],
      "source": [
        "data['content'] = data['content'].apply(lambda x: x.replace('\\n', ' '))\n",
        "data['description'] = data['description'].apply(lambda x: x.replace('\\n', ' '))"
      ]
    },
    {
      "cell_type": "code",
      "source": [
        "data = data.rename(columns={'description': 'summary', 'content': 'article'})"
      ],
      "metadata": {
        "id": "ahFmK92lGRf0"
      },
      "execution_count": 5,
      "outputs": []
    },
    {
      "cell_type": "markdown",
      "source": [
        "## Fine-tuning"
      ],
      "metadata": {
        "id": "VyUBjFoa3cP7"
      }
    },
    {
      "cell_type": "code",
      "source": [
        "# !pip uninstall -y transformers accelerate > None\n",
        "# !pip install transformers accelerate > None"
      ],
      "metadata": {
        "id": "VjYRXDw8JyBh"
      },
      "execution_count": 6,
      "outputs": []
    },
    {
      "cell_type": "code",
      "source": [
        "!pip install transformers datasets torch > None"
      ],
      "metadata": {
        "id": "r1Z8-WGSJyBh"
      },
      "execution_count": 7,
      "outputs": []
    },
    {
      "cell_type": "code",
      "source": [
        "!pip install rouge-score > None"
      ],
      "metadata": {
        "colab": {
          "base_uri": "https://localhost:8080/"
        },
        "id": "HjUB2a7JcjWP",
        "outputId": "bd3ef066-6044-4923-addb-fb3f5e324d83"
      },
      "execution_count": 78,
      "outputs": [
        {
          "output_type": "stream",
          "name": "stdout",
          "text": [
            "Collecting rouge-score\n",
            "  Downloading rouge_score-0.1.2.tar.gz (17 kB)\n",
            "  Preparing metadata (setup.py) ... \u001b[?25l\u001b[?25hdone\n",
            "Requirement already satisfied: absl-py in /usr/local/lib/python3.10/dist-packages (from rouge-score) (1.4.0)\n",
            "Requirement already satisfied: nltk in /usr/local/lib/python3.10/dist-packages (from rouge-score) (3.8.1)\n",
            "Requirement already satisfied: numpy in /usr/local/lib/python3.10/dist-packages (from rouge-score) (1.25.2)\n",
            "Requirement already satisfied: six>=1.14.0 in /usr/local/lib/python3.10/dist-packages (from rouge-score) (1.16.0)\n",
            "Requirement already satisfied: click in /usr/local/lib/python3.10/dist-packages (from nltk->rouge-score) (8.1.7)\n",
            "Requirement already satisfied: joblib in /usr/local/lib/python3.10/dist-packages (from nltk->rouge-score) (1.4.2)\n",
            "Requirement already satisfied: regex>=2021.8.3 in /usr/local/lib/python3.10/dist-packages (from nltk->rouge-score) (2024.5.15)\n",
            "Requirement already satisfied: tqdm in /usr/local/lib/python3.10/dist-packages (from nltk->rouge-score) (4.66.4)\n",
            "Building wheels for collected packages: rouge-score\n",
            "  Building wheel for rouge-score (setup.py) ... \u001b[?25l\u001b[?25hdone\n",
            "  Created wheel for rouge-score: filename=rouge_score-0.1.2-py3-none-any.whl size=24933 sha256=1916f9a60e2ce65f6bde850c6ede72b14fb3e7ffafedea3aefb81e5525a197f9\n",
            "  Stored in directory: /root/.cache/pip/wheels/5f/dd/89/461065a73be61a532ff8599a28e9beef17985c9e9c31e541b4\n",
            "Successfully built rouge-score\n",
            "Installing collected packages: rouge-score\n",
            "Successfully installed rouge-score-0.1.2\n"
          ]
        }
      ]
    },
    {
      "cell_type": "code",
      "source": [
        "import torch\n",
        "import time\n",
        "from datasets import Dataset\n",
        "from sklearn.model_selection import train_test_split\n",
        "from rouge_score import rouge_scorer\n",
        "from transformers import BartTokenizer, BartForConditionalGeneration, Trainer, TrainingArguments, DataCollatorForSeq2Seq"
      ],
      "metadata": {
        "id": "Mw7ywv9rJyBi"
      },
      "execution_count": 6,
      "outputs": []
    },
    {
      "cell_type": "markdown",
      "source": [
        "Определим процессор, на котором будем работать с моделью"
      ],
      "metadata": {
        "id": "6CxktgSiJyBi"
      }
    },
    {
      "cell_type": "code",
      "source": [
        "device = torch.device('cuda' if torch.cuda.is_available() else 'cpu')"
      ],
      "metadata": {
        "id": "JYtngG2IJyBi"
      },
      "execution_count": 7,
      "outputs": []
    },
    {
      "cell_type": "markdown",
      "source": [
        "Для задачи суммаризации текстов я выбрала модель Shobhank-iiitdwd/BERT_summary. https://huggingface.co/Shobhank-iiitdwd/BERT_summary\n",
        "\n",
        "Она хорошо подходит для суммаризации текста и была также обучена на новостном датасете."
      ],
      "metadata": {
        "id": "I38a7DkwJyBi"
      }
    },
    {
      "cell_type": "code",
      "source": [
        "from nltk.translate.bleu_score import SmoothingFunction"
      ],
      "metadata": {
        "id": "r6nd_xjzCs9a"
      },
      "execution_count": 8,
      "outputs": []
    },
    {
      "cell_type": "code",
      "source": [
        "from transformers import AutoTokenizer, AutoModelForSeq2SeqLM\n",
        "\n",
        "tokenizer = AutoTokenizer.from_pretrained(\"Shobhank-iiitdwd/BERT_summary\")\n",
        "model = AutoModelForSeq2SeqLM.from_pretrained(\"Shobhank-iiitdwd/BERT_summary\").to(device)"
      ],
      "metadata": {
        "id": "3SWr0V0L3cf3"
      },
      "execution_count": 9,
      "outputs": []
    },
    {
      "cell_type": "markdown",
      "source": [
        "Разделим датасет"
      ],
      "metadata": {
        "id": "fy4vqCiCDABQ"
      }
    },
    {
      "cell_type": "code",
      "source": [
        "data_sm = data.sample(500, random_state=42)\n",
        "\n",
        "train_df, test_df = train_test_split(data_sm,\n",
        "                                     test_size=0.05,\n",
        "                                     random_state=42)\n",
        "\n",
        "train_dataset = Dataset.from_pandas(train_df)"
      ],
      "metadata": {
        "id": "Ks-CKUrmDB1g"
      },
      "execution_count": 10,
      "outputs": []
    },
    {
      "cell_type": "markdown",
      "source": [
        "Оценим качество модели до обучения"
      ],
      "metadata": {
        "id": "fqGyhuuHC2XL"
      }
    },
    {
      "cell_type": "code",
      "source": [
        "from tqdm import tqdm\n",
        "\n",
        "# Функция для вычисления BLEU\n",
        "def compute_bleu(references, predictions):\n",
        "    sf = SmoothingFunction()\n",
        "    scores = []\n",
        "    for ref, pred in tqdm(zip(references, predictions), total=len(references)):\n",
        "        ref_tokens = nltk.word_tokenize(ref)\n",
        "        pred_tokens = nltk.word_tokenize(pred)\n",
        "        score = sentence_bleu([ref_tokens], pred_tokens, smoothing_function=sf.method2)\n",
        "        scores.append(score)\n",
        "    return sum(scores) / len(scores)\n",
        "\n",
        "\n",
        "def compute_overall_rouge(references, predictions):\n",
        "    # Инициализация объекта ROUGE-скорера\n",
        "    scorer = rouge_scorer.RougeScorer(['rouge1', 'rouge2', 'rougeL'], use_stemmer=True)\n",
        "\n",
        "    # Вычисление ROUGE для каждой пары reference-prediction\n",
        "    rouge1_scores = []\n",
        "    rouge2_scores = []\n",
        "    rougeL_scores = []\n",
        "\n",
        "    for reference, prediction in zip(references, predictions):\n",
        "        scores = scorer.score(reference, prediction)\n",
        "        rouge1_scores.append(scores['rouge1'].fmeasure)\n",
        "        rouge2_scores.append(scores['rouge2'].fmeasure)\n",
        "        rougeL_scores.append(scores['rougeL'].fmeasure)\n",
        "\n",
        "    # Вычисление среднего значения ROUGE для каждой метрики\n",
        "    avg_rouge1 = sum(rouge1_scores) / len(rouge1_scores)\n",
        "    avg_rouge2 = sum(rouge2_scores) / len(rouge2_scores)\n",
        "    avg_rougeL = sum(rougeL_scores) / len(rougeL_scores)\n",
        "\n",
        "    # Вычисление общей метрики ROUGE\n",
        "    overall_rouge = (avg_rouge1 + avg_rouge2 + avg_rougeL) / 3\n",
        "\n",
        "    return overall_rouge\n",
        "\n",
        "\n",
        "# Генерация предсказаний\n",
        "def generate_summary(model, tokenizer, texts):\n",
        "    inputs = tokenizer(texts, return_tensors=\"pt\", padding=True, truncation=True, max_length=512).to(device)\n",
        "    summaries = model.generate(inputs[\"input_ids\"], max_length=64, num_beams=4, early_stopping=True)\n",
        "    return [tokenizer.decode(s, skip_special_tokens=True) for s in summaries]"
      ],
      "metadata": {
        "id": "1SxllAMQ_iG8"
      },
      "execution_count": 11,
      "outputs": []
    },
    {
      "cell_type": "code",
      "source": [
        "# Из тестовой выборки выделим сами статьи и их обощенное описание\n",
        "references = test_df['summary'].tolist()\n",
        "articles = test_df['article'].tolist()"
      ],
      "metadata": {
        "id": "LXS5-1RbHii7"
      },
      "execution_count": 12,
      "outputs": []
    },
    {
      "cell_type": "code",
      "source": [
        "predictions_before = generate_summary(model, tokenizer, articles)\n",
        "\n",
        "bleu_before = compute_bleu(references, predictions_before)\n",
        "print(f\"\\nBLEU до fine-tuning: {bleu_before}\")\n",
        "\n",
        "rouge_before = compute_overall_rouge(references, predictions_before)\n",
        "print(f\"ROUGE до fine-tuning: {rouge_before}\")"
      ],
      "metadata": {
        "colab": {
          "base_uri": "https://localhost:8080/"
        },
        "id": "Ckb7jkz8GnZn",
        "outputId": "97000564-122e-4fab-f9ab-b4bfd19274be"
      },
      "execution_count": 13,
      "outputs": [
        {
          "output_type": "stream",
          "name": "stderr",
          "text": [
            "100%|██████████| 25/25 [00:00<00:00, 789.11it/s]"
          ]
        },
        {
          "output_type": "stream",
          "name": "stdout",
          "text": [
            "BLEU до fine-tuning: 0.09023959526396962\n",
            "ROUGE до fine-tuning: 0.2690220063386979\n"
          ]
        },
        {
          "output_type": "stream",
          "name": "stderr",
          "text": [
            "\n"
          ]
        }
      ]
    },
    {
      "cell_type": "markdown",
      "source": [
        "Пеперь дообучим модель на своих данных"
      ],
      "metadata": {
        "id": "I6quuQEEC59t"
      }
    },
    {
      "cell_type": "code",
      "source": [
        "# Определим функцию для обработки данных перед подачей в модель\n",
        "def preprocess_data(examples):\n",
        "    inputs = [doc for doc in examples['article']]\n",
        "    model_inputs = tokenizer(inputs, max_length=512, padding='max_length', truncation=True)\n",
        "\n",
        "    # Настраиваем суммаризацию\n",
        "    with tokenizer.as_target_tokenizer():\n",
        "        labels = tokenizer(examples['summary'], max_length=64, padding='max_length', truncation=True)\n",
        "\n",
        "    model_inputs[\"labels\"] = labels[\"input_ids\"]\n",
        "    return model_inputs"
      ],
      "metadata": {
        "id": "fX432GJT4Lg-"
      },
      "execution_count": 14,
      "outputs": []
    },
    {
      "cell_type": "code",
      "source": [
        "# Применяем токенизацию к нашему тренировочному датасету\n",
        "tokenized_dataset = train_dataset.map(preprocess_data, batched=True)\n",
        "\n",
        "# Разделим датасет также на тренировочный и валидационный\n",
        "split = tokenized_dataset.train_test_split(test_size=0.2)\n",
        "train_dataset = split['train']\n",
        "val_dataset = split['test']"
      ],
      "metadata": {
        "id": "O7Ny7ZzF4PlK",
        "colab": {
          "base_uri": "https://localhost:8080/",
          "height": 104,
          "referenced_widgets": [
            "bb42c812f80a416686b0ef516056c8f4",
            "605f3929e7af4ed6862e990d1bd16e1c",
            "05bc890dc0b741198fb0bd6960cbd051",
            "773e8ace77c444469f9d8443f744c2b1",
            "e263727d67bb476f806b777e2a9782c3",
            "e001a0aa127540118b40df9c41103d32",
            "4938523291d0456894443309346f2db6",
            "71393f00f07848d086aaf44b6c4a9ad0",
            "575befa79a14449fbb87c563acd8fed7",
            "e63e36e5d209448490fc2f31a09d5819",
            "0d4ca36da5ac4e429cb220b1425fea9d"
          ]
        },
        "outputId": "17c3ca9a-6729-4c4d-c584-38970f8fee6a"
      },
      "execution_count": 15,
      "outputs": [
        {
          "output_type": "display_data",
          "data": {
            "text/plain": [
              "Map:   0%|          | 0/475 [00:00<?, ? examples/s]"
            ],
            "application/vnd.jupyter.widget-view+json": {
              "version_major": 2,
              "version_minor": 0,
              "model_id": "bb42c812f80a416686b0ef516056c8f4"
            }
          },
          "metadata": {}
        },
        {
          "output_type": "stream",
          "name": "stderr",
          "text": [
            "/usr/local/lib/python3.10/dist-packages/transformers/tokenization_utils_base.py:3946: UserWarning: `as_target_tokenizer` is deprecated and will be removed in v5 of Transformers. You can tokenize your labels by using the argument `text_target` of the regular `__call__` method (either in the same call as your input texts if you use the same keyword arguments, or in a separate call.\n",
            "  warnings.warn(\n"
          ]
        }
      ]
    },
    {
      "cell_type": "code",
      "source": [
        "training_args = TrainingArguments(\n",
        "    output_dir='./fine_tunned',      # директория для сохранения модели\n",
        "    num_train_epochs=4,             # количество эпох\n",
        "    per_device_train_batch_size=2,   # размер батча на устройстве\n",
        "    per_device_eval_batch_size=2,    # размер батча для оценки\n",
        "    gradient_accumulation_steps=4,   # Накопление градиентов для большего эффективного размера батча\n",
        "    warmup_steps=500,                # количество шагов для разогрева\n",
        "    weight_decay=0.01,               # коэффициент регуляризации\n",
        "    logging_dir='./logs',            # директория для логов\n",
        "    logging_steps=1,\n",
        "    eval_strategy=\"epoch\",           # Оценка модели после каждой эпохи\n",
        "    save_total_limit=2,              # Сохранение только двух последних моделей\n",
        ")\n",
        "\n",
        "# Data collator для динамического паддинга\n",
        "data_collator = DataCollatorForSeq2Seq(tokenizer, model=model)\n",
        "\n",
        "\n",
        "trainer = Trainer(\n",
        "    model=model,\n",
        "    args=training_args,\n",
        "    train_dataset=train_dataset,\n",
        "    eval_dataset=val_dataset,\n",
        "    tokenizer=tokenizer,\n",
        "    data_collator=data_collator\n",
        ")"
      ],
      "metadata": {
        "id": "EPFI2SLW3eLq"
      },
      "execution_count": 16,
      "outputs": []
    },
    {
      "cell_type": "markdown",
      "source": [
        "Запустим процесс дообучения модели"
      ],
      "metadata": {
        "id": "dPV9qGrfGFeO"
      }
    },
    {
      "cell_type": "code",
      "source": [
        "# Запуск обучения\n",
        "start_time = time.time()\n",
        "\n",
        "trainer.train()\n",
        "\n",
        "end_time = time.time()\n",
        "training_time = end_time - start_time\n",
        "print(f\"Время обучения: {round(training_time, 2)} секунд\")\n",
        "\n",
        "\n",
        "model.save_pretrained('./fine_tuned_model_BERT')\n",
        "tokenizer.save_pretrained('./fine_tuned_model_BERT')"
      ],
      "metadata": {
        "colab": {
          "base_uri": "https://localhost:8080/",
          "height": 380
        },
        "id": "Q5Os6xrt_iB3",
        "outputId": "2ee74e25-3854-4a14-e088-22b840919638"
      },
      "execution_count": 17,
      "outputs": [
        {
          "output_type": "stream",
          "name": "stderr",
          "text": [
            "We strongly recommend passing in an `attention_mask` since your input_ids may be padded. See https://huggingface.co/docs/transformers/troubleshooting#incorrect-output-when-padding-tokens-arent-masked.\n",
            "/usr/local/lib/python3.10/dist-packages/transformers/models/encoder_decoder/modeling_encoder_decoder.py:643: FutureWarning: Version v4.12.0 introduces a better way to train encoder-decoder models by computing the loss inside the encoder-decoder framework rather than in the decoder itself. You may observe training discrepancies if fine-tuning a model trained with versions anterior to 4.12.0. The decoder_input_ids are now created based on the labels, no need to pass them yourself anymore.\n",
            "  warnings.warn(DEPRECATION_WARNING, FutureWarning)\n"
          ]
        },
        {
          "output_type": "display_data",
          "data": {
            "text/plain": [
              "<IPython.core.display.HTML object>"
            ],
            "text/html": [
              "\n",
              "    <div>\n",
              "      \n",
              "      <progress value='188' max='188' style='width:300px; height:20px; vertical-align: middle;'></progress>\n",
              "      [188/188 04:45, Epoch 3/4]\n",
              "    </div>\n",
              "    <table border=\"1\" class=\"dataframe\">\n",
              "  <thead>\n",
              " <tr style=\"text-align: left;\">\n",
              "      <th>Epoch</th>\n",
              "      <th>Training Loss</th>\n",
              "      <th>Validation Loss</th>\n",
              "    </tr>\n",
              "  </thead>\n",
              "  <tbody>\n",
              "    <tr>\n",
              "      <td>0</td>\n",
              "      <td>3.222300</td>\n",
              "      <td>4.283321</td>\n",
              "    </tr>\n",
              "    <tr>\n",
              "      <td>2</td>\n",
              "      <td>1.455100</td>\n",
              "      <td>1.393764</td>\n",
              "    </tr>\n",
              "    <tr>\n",
              "      <td>3</td>\n",
              "      <td>1.322500</td>\n",
              "      <td>1.227318</td>\n",
              "    </tr>\n",
              "  </tbody>\n",
              "</table><p>"
            ]
          },
          "metadata": {}
        },
        {
          "output_type": "stream",
          "name": "stderr",
          "text": [
            "Some non-default generation parameters are set in the model config. These should go into a GenerationConfig file (https://huggingface.co/docs/transformers/generation_strategies#save-a-custom-decoding-strategy-with-your-model) instead. This warning will be raised to an exception in v4.41.\n",
            "Non-default generation parameters: {'max_length': 142, 'min_length': 56, 'early_stopping': True, 'num_beams': 4, 'length_penalty': 2.0, 'no_repeat_ngram_size': 3}\n"
          ]
        },
        {
          "output_type": "stream",
          "name": "stdout",
          "text": [
            "Время обучения: 288.45 секунд\n"
          ]
        },
        {
          "output_type": "execute_result",
          "data": {
            "text/plain": [
              "('./fine_tuned_model_BERT/tokenizer_config.json',\n",
              " './fine_tuned_model_BERT/special_tokens_map.json',\n",
              " './fine_tuned_model_BERT/vocab.txt',\n",
              " './fine_tuned_model_BERT/added_tokens.json',\n",
              " './fine_tuned_model_BERT/tokenizer.json')"
            ]
          },
          "metadata": {},
          "execution_count": 17
        }
      ]
    },
    {
      "cell_type": "markdown",
      "source": [
        "Теперь загрузим обученную модель и оценим на тренировочных данных"
      ],
      "metadata": {
        "id": "Ar7f6c0KLC6T"
      }
    },
    {
      "cell_type": "code",
      "source": [
        "del model\n",
        "del tokenizer"
      ],
      "metadata": {
        "id": "mPuO0-WXgdTb"
      },
      "execution_count": 18,
      "outputs": []
    },
    {
      "cell_type": "code",
      "source": [
        "torch.cuda.empty_cache()"
      ],
      "metadata": {
        "id": "Y0x_SRNXSius"
      },
      "execution_count": 19,
      "outputs": []
    },
    {
      "cell_type": "code",
      "source": [
        "tuned_tokenizer = AutoTokenizer.from_pretrained('./fine_tuned_model_BERT')\n",
        "tuned_model = AutoModelForSeq2SeqLM.from_pretrained('./fine_tuned_model_BERT').to(device)"
      ],
      "metadata": {
        "id": "2YoHLFwrgLva"
      },
      "execution_count": 20,
      "outputs": []
    },
    {
      "cell_type": "code",
      "source": [
        "predictions_after = generate_summary(tuned_model, tuned_tokenizer, articles)\n",
        "\n",
        "bleu_after = compute_bleu(references, predictions_after)\n",
        "print(f\"\\nBLEU после fine-tuning: {bleu_after}\")\n",
        "\n",
        "rouge_after = compute_overall_rouge(references, predictions_after)\n",
        "print(f\"ROUGE после fine-tuning: {rouge_after}\")"
      ],
      "metadata": {
        "colab": {
          "base_uri": "https://localhost:8080/"
        },
        "id": "uyWmPrkU_QZe",
        "outputId": "2680bffa-ba55-4d83-c324-f4e616a5a85c"
      },
      "execution_count": 21,
      "outputs": [
        {
          "output_type": "stream",
          "name": "stderr",
          "text": [
            "100%|██████████| 25/25 [00:00<00:00, 950.77it/s]"
          ]
        },
        {
          "output_type": "stream",
          "name": "stdout",
          "text": [
            "\n",
            "BLEU после fine-tuning: 0.11681717825647554\n",
            "ROUGE после fine-tuning: 0.33647722933641866\n"
          ]
        },
        {
          "output_type": "stream",
          "name": "stderr",
          "text": [
            "\n"
          ]
        }
      ]
    },
    {
      "cell_type": "markdown",
      "source": [
        "Как видно, метрики показывают улучшение результатов на тестовых данных"
      ],
      "metadata": {
        "id": "MmzPNPt1icf5"
      }
    },
    {
      "cell_type": "code",
      "source": [
        "comparison_df = pd.DataFrame({'original': references, 'before': predictions_before, 'after': predictions_after})"
      ],
      "metadata": {
        "id": "MfophnCDaWNG"
      },
      "execution_count": 26,
      "outputs": []
    },
    {
      "cell_type": "code",
      "source": [
        "comparison_df.sample(5)"
      ],
      "metadata": {
        "colab": {
          "base_uri": "https://localhost:8080/",
          "height": 1021
        },
        "id": "IgtDGEwwanSl",
        "outputId": "52c1cbf1-182c-454c-d027-95617219bfd1"
      },
      "execution_count": 28,
      "outputs": [
        {
          "output_type": "execute_result",
          "data": {
            "text/plain": [
              "                                             original  \\\n",
              "8   As regards maturity, RBI said the minimum teno...   \n",
              "16  The James Webb Space Telescope has captured ne...   \n",
              "0   Tired of the Bing Wallpapers app not refreshin...   \n",
              "23  While the Indian Space Research Organisation’s...   \n",
              "11  Raveena Tandon is mother of daughter Rasha and...   \n",
              "\n",
              "                                               before  \\\n",
              "8   reserve bank of india issued guidelines for le...   \n",
              "16  james webb's nircam and miri ( mid - infrared ...   \n",
              "0   bing gallery has a nifty trick that lets you s...   \n",
              "23  isro's istrac centre and mox will play a cruci...   \n",
              "11  raveena tandon is mother to four children, dau...   \n",
              "\n",
              "                                                after  \n",
              "8   in february, the central bank had come out wit...  \n",
              "16  the james webb space telescope has looked at t...  \n",
              "0   bing gallery has one of the most beautiful col...  \n",
              "23  isro's istrac centre and mox will see scientis...  \n",
              "11  raveena tandon is mother of four children, dau...  "
            ],
            "text/html": [
              "\n",
              "  <div id=\"df-5e143725-8f3e-403b-a44a-2fb957e48195\" class=\"colab-df-container\">\n",
              "    <div>\n",
              "<style scoped>\n",
              "    .dataframe tbody tr th:only-of-type {\n",
              "        vertical-align: middle;\n",
              "    }\n",
              "\n",
              "    .dataframe tbody tr th {\n",
              "        vertical-align: top;\n",
              "    }\n",
              "\n",
              "    .dataframe thead th {\n",
              "        text-align: right;\n",
              "    }\n",
              "</style>\n",
              "<table border=\"1\" class=\"dataframe\">\n",
              "  <thead>\n",
              "    <tr style=\"text-align: right;\">\n",
              "      <th></th>\n",
              "      <th>original</th>\n",
              "      <th>before</th>\n",
              "      <th>after</th>\n",
              "    </tr>\n",
              "  </thead>\n",
              "  <tbody>\n",
              "    <tr>\n",
              "      <th>8</th>\n",
              "      <td>As regards maturity, RBI said the minimum teno...</td>\n",
              "      <td>reserve bank of india issued guidelines for le...</td>\n",
              "      <td>in february, the central bank had come out wit...</td>\n",
              "    </tr>\n",
              "    <tr>\n",
              "      <th>16</th>\n",
              "      <td>The James Webb Space Telescope has captured ne...</td>\n",
              "      <td>james webb's nircam and miri ( mid - infrared ...</td>\n",
              "      <td>the james webb space telescope has looked at t...</td>\n",
              "    </tr>\n",
              "    <tr>\n",
              "      <th>0</th>\n",
              "      <td>Tired of the Bing Wallpapers app not refreshin...</td>\n",
              "      <td>bing gallery has a nifty trick that lets you s...</td>\n",
              "      <td>bing gallery has one of the most beautiful col...</td>\n",
              "    </tr>\n",
              "    <tr>\n",
              "      <th>23</th>\n",
              "      <td>While the Indian Space Research Organisation’s...</td>\n",
              "      <td>isro's istrac centre and mox will play a cruci...</td>\n",
              "      <td>isro's istrac centre and mox will see scientis...</td>\n",
              "    </tr>\n",
              "    <tr>\n",
              "      <th>11</th>\n",
              "      <td>Raveena Tandon is mother of daughter Rasha and...</td>\n",
              "      <td>raveena tandon is mother to four children, dau...</td>\n",
              "      <td>raveena tandon is mother of four children, dau...</td>\n",
              "    </tr>\n",
              "  </tbody>\n",
              "</table>\n",
              "</div>\n",
              "    <div class=\"colab-df-buttons\">\n",
              "\n",
              "  <div class=\"colab-df-container\">\n",
              "    <button class=\"colab-df-convert\" onclick=\"convertToInteractive('df-5e143725-8f3e-403b-a44a-2fb957e48195')\"\n",
              "            title=\"Convert this dataframe to an interactive table.\"\n",
              "            style=\"display:none;\">\n",
              "\n",
              "  <svg xmlns=\"http://www.w3.org/2000/svg\" height=\"24px\" viewBox=\"0 -960 960 960\">\n",
              "    <path d=\"M120-120v-720h720v720H120Zm60-500h600v-160H180v160Zm220 220h160v-160H400v160Zm0 220h160v-160H400v160ZM180-400h160v-160H180v160Zm440 0h160v-160H620v160ZM180-180h160v-160H180v160Zm440 0h160v-160H620v160Z\"/>\n",
              "  </svg>\n",
              "    </button>\n",
              "\n",
              "  <style>\n",
              "    .colab-df-container {\n",
              "      display:flex;\n",
              "      gap: 12px;\n",
              "    }\n",
              "\n",
              "    .colab-df-convert {\n",
              "      background-color: #E8F0FE;\n",
              "      border: none;\n",
              "      border-radius: 50%;\n",
              "      cursor: pointer;\n",
              "      display: none;\n",
              "      fill: #1967D2;\n",
              "      height: 32px;\n",
              "      padding: 0 0 0 0;\n",
              "      width: 32px;\n",
              "    }\n",
              "\n",
              "    .colab-df-convert:hover {\n",
              "      background-color: #E2EBFA;\n",
              "      box-shadow: 0px 1px 2px rgba(60, 64, 67, 0.3), 0px 1px 3px 1px rgba(60, 64, 67, 0.15);\n",
              "      fill: #174EA6;\n",
              "    }\n",
              "\n",
              "    .colab-df-buttons div {\n",
              "      margin-bottom: 4px;\n",
              "    }\n",
              "\n",
              "    [theme=dark] .colab-df-convert {\n",
              "      background-color: #3B4455;\n",
              "      fill: #D2E3FC;\n",
              "    }\n",
              "\n",
              "    [theme=dark] .colab-df-convert:hover {\n",
              "      background-color: #434B5C;\n",
              "      box-shadow: 0px 1px 3px 1px rgba(0, 0, 0, 0.15);\n",
              "      filter: drop-shadow(0px 1px 2px rgba(0, 0, 0, 0.3));\n",
              "      fill: #FFFFFF;\n",
              "    }\n",
              "  </style>\n",
              "\n",
              "    <script>\n",
              "      const buttonEl =\n",
              "        document.querySelector('#df-5e143725-8f3e-403b-a44a-2fb957e48195 button.colab-df-convert');\n",
              "      buttonEl.style.display =\n",
              "        google.colab.kernel.accessAllowed ? 'block' : 'none';\n",
              "\n",
              "      async function convertToInteractive(key) {\n",
              "        const element = document.querySelector('#df-5e143725-8f3e-403b-a44a-2fb957e48195');\n",
              "        const dataTable =\n",
              "          await google.colab.kernel.invokeFunction('convertToInteractive',\n",
              "                                                    [key], {});\n",
              "        if (!dataTable) return;\n",
              "\n",
              "        const docLinkHtml = 'Like what you see? Visit the ' +\n",
              "          '<a target=\"_blank\" href=https://colab.research.google.com/notebooks/data_table.ipynb>data table notebook</a>'\n",
              "          + ' to learn more about interactive tables.';\n",
              "        element.innerHTML = '';\n",
              "        dataTable['output_type'] = 'display_data';\n",
              "        await google.colab.output.renderOutput(dataTable, element);\n",
              "        const docLink = document.createElement('div');\n",
              "        docLink.innerHTML = docLinkHtml;\n",
              "        element.appendChild(docLink);\n",
              "      }\n",
              "    </script>\n",
              "  </div>\n",
              "\n",
              "\n",
              "<div id=\"df-984dfde5-3dc5-4c79-993f-03612068a34d\">\n",
              "  <button class=\"colab-df-quickchart\" onclick=\"quickchart('df-984dfde5-3dc5-4c79-993f-03612068a34d')\"\n",
              "            title=\"Suggest charts\"\n",
              "            style=\"display:none;\">\n",
              "\n",
              "<svg xmlns=\"http://www.w3.org/2000/svg\" height=\"24px\"viewBox=\"0 0 24 24\"\n",
              "     width=\"24px\">\n",
              "    <g>\n",
              "        <path d=\"M19 3H5c-1.1 0-2 .9-2 2v14c0 1.1.9 2 2 2h14c1.1 0 2-.9 2-2V5c0-1.1-.9-2-2-2zM9 17H7v-7h2v7zm4 0h-2V7h2v10zm4 0h-2v-4h2v4z\"/>\n",
              "    </g>\n",
              "</svg>\n",
              "  </button>\n",
              "\n",
              "<style>\n",
              "  .colab-df-quickchart {\n",
              "      --bg-color: #E8F0FE;\n",
              "      --fill-color: #1967D2;\n",
              "      --hover-bg-color: #E2EBFA;\n",
              "      --hover-fill-color: #174EA6;\n",
              "      --disabled-fill-color: #AAA;\n",
              "      --disabled-bg-color: #DDD;\n",
              "  }\n",
              "\n",
              "  [theme=dark] .colab-df-quickchart {\n",
              "      --bg-color: #3B4455;\n",
              "      --fill-color: #D2E3FC;\n",
              "      --hover-bg-color: #434B5C;\n",
              "      --hover-fill-color: #FFFFFF;\n",
              "      --disabled-bg-color: #3B4455;\n",
              "      --disabled-fill-color: #666;\n",
              "  }\n",
              "\n",
              "  .colab-df-quickchart {\n",
              "    background-color: var(--bg-color);\n",
              "    border: none;\n",
              "    border-radius: 50%;\n",
              "    cursor: pointer;\n",
              "    display: none;\n",
              "    fill: var(--fill-color);\n",
              "    height: 32px;\n",
              "    padding: 0;\n",
              "    width: 32px;\n",
              "  }\n",
              "\n",
              "  .colab-df-quickchart:hover {\n",
              "    background-color: var(--hover-bg-color);\n",
              "    box-shadow: 0 1px 2px rgba(60, 64, 67, 0.3), 0 1px 3px 1px rgba(60, 64, 67, 0.15);\n",
              "    fill: var(--button-hover-fill-color);\n",
              "  }\n",
              "\n",
              "  .colab-df-quickchart-complete:disabled,\n",
              "  .colab-df-quickchart-complete:disabled:hover {\n",
              "    background-color: var(--disabled-bg-color);\n",
              "    fill: var(--disabled-fill-color);\n",
              "    box-shadow: none;\n",
              "  }\n",
              "\n",
              "  .colab-df-spinner {\n",
              "    border: 2px solid var(--fill-color);\n",
              "    border-color: transparent;\n",
              "    border-bottom-color: var(--fill-color);\n",
              "    animation:\n",
              "      spin 1s steps(1) infinite;\n",
              "  }\n",
              "\n",
              "  @keyframes spin {\n",
              "    0% {\n",
              "      border-color: transparent;\n",
              "      border-bottom-color: var(--fill-color);\n",
              "      border-left-color: var(--fill-color);\n",
              "    }\n",
              "    20% {\n",
              "      border-color: transparent;\n",
              "      border-left-color: var(--fill-color);\n",
              "      border-top-color: var(--fill-color);\n",
              "    }\n",
              "    30% {\n",
              "      border-color: transparent;\n",
              "      border-left-color: var(--fill-color);\n",
              "      border-top-color: var(--fill-color);\n",
              "      border-right-color: var(--fill-color);\n",
              "    }\n",
              "    40% {\n",
              "      border-color: transparent;\n",
              "      border-right-color: var(--fill-color);\n",
              "      border-top-color: var(--fill-color);\n",
              "    }\n",
              "    60% {\n",
              "      border-color: transparent;\n",
              "      border-right-color: var(--fill-color);\n",
              "    }\n",
              "    80% {\n",
              "      border-color: transparent;\n",
              "      border-right-color: var(--fill-color);\n",
              "      border-bottom-color: var(--fill-color);\n",
              "    }\n",
              "    90% {\n",
              "      border-color: transparent;\n",
              "      border-bottom-color: var(--fill-color);\n",
              "    }\n",
              "  }\n",
              "</style>\n",
              "\n",
              "  <script>\n",
              "    async function quickchart(key) {\n",
              "      const quickchartButtonEl =\n",
              "        document.querySelector('#' + key + ' button');\n",
              "      quickchartButtonEl.disabled = true;  // To prevent multiple clicks.\n",
              "      quickchartButtonEl.classList.add('colab-df-spinner');\n",
              "      try {\n",
              "        const charts = await google.colab.kernel.invokeFunction(\n",
              "            'suggestCharts', [key], {});\n",
              "      } catch (error) {\n",
              "        console.error('Error during call to suggestCharts:', error);\n",
              "      }\n",
              "      quickchartButtonEl.classList.remove('colab-df-spinner');\n",
              "      quickchartButtonEl.classList.add('colab-df-quickchart-complete');\n",
              "    }\n",
              "    (() => {\n",
              "      let quickchartButtonEl =\n",
              "        document.querySelector('#df-984dfde5-3dc5-4c79-993f-03612068a34d button');\n",
              "      quickchartButtonEl.style.display =\n",
              "        google.colab.kernel.accessAllowed ? 'block' : 'none';\n",
              "    })();\n",
              "  </script>\n",
              "</div>\n",
              "    </div>\n",
              "  </div>\n"
            ],
            "application/vnd.google.colaboratory.intrinsic+json": {
              "type": "dataframe",
              "summary": "{\n  \"name\": \"comparison_df\",\n  \"rows\": 5,\n  \"fields\": [\n    {\n      \"column\": \"original\",\n      \"properties\": {\n        \"dtype\": \"string\",\n        \"num_unique_values\": 5,\n        \"samples\": [\n          \"The James Webb Space Telescope has captured never-before-seen details of the Crab Nebula.\",\n          \"Raveena Tandon is mother of daughter Rasha and son Ranbir Thadani and daughters Pooja and Chhaya Tandon.\",\n          \"Tired of the Bing Wallpapers app not refreshing your wallpaper every day? Here's how to get the Bing picture of the day as wallpaper on your Android device.\"\n        ],\n        \"semantic_type\": \"\",\n        \"description\": \"\"\n      }\n    },\n    {\n      \"column\": \"before\",\n      \"properties\": {\n        \"dtype\": \"string\",\n        \"num_unique_values\": 5,\n        \"samples\": [\n          \"james webb's nircam and miri ( mid - infrared instrument ) are looking for answers about the crab nebula's origins. webb is particularly good at highlighting \\u2018 synchrotron radiation, \\u2019 which is the emission produced by charged particles like electrons moving around magnetic fields at near relativistic speeds\",\n          \"raveena tandon is mother to four children, daughters rasha, pooja and chhaya. she says there is more communication and less technology. she also reflects back on the good old times when co - stars knew everything about each other's personal lives. click here for all the latest bollywood news.\",\n          \"bing gallery has a nifty trick that lets you set a new picture as wallpaper every day. users often complain about the app randomly failing to refresh. if you find yourself in the same boat and want to have new wallpapers installed every day, you can set bing as your default wallpaper provider\"\n        ],\n        \"semantic_type\": \"\",\n        \"description\": \"\"\n      }\n    },\n    {\n      \"column\": \"after\",\n      \"properties\": {\n        \"dtype\": \"string\",\n        \"num_unique_values\": 5,\n        \"samples\": [\n          \"the james webb space telescope has looked at the crab nebula that is located 65, 000 light - years away in the constellation taurus. in the new image, the general shape of the supernova remnant is shown in red - orange. this is the first time this feature has been mapped out by any telescope.\",\n          \"raveena tandon is mother of four children, daughters rasha, pooja and chhaya, and son ranbir, 4, has been a celebrity - parent and reflected back on the good old times when co - stars knew everything about each other's personal lives because there was less technology.\",\n          \"bing gallery has one of the most beautiful collection of images from around the world. users complain about the app randomly failing to refresh their screen and want to have new wallpapers on the wallpaper, like the bing wallpaper app for android, and there is a nifty trick that lets you set\"\n        ],\n        \"semantic_type\": \"\",\n        \"description\": \"\"\n      }\n    }\n  ]\n}"
            }
          },
          "metadata": {},
          "execution_count": 28
        }
      ]
    }
  ],
  "metadata": {
    "colab": {
      "provenance": [],
      "collapsed_sections": [
        "PRq-EDBpU4yi",
        "dyydnDDRgGm8",
        "0LAzJjn4aGWa",
        "n4OKIqaXER-m",
        "8xivfKbwWjo8"
      ],
      "gpuType": "T4",
      "include_colab_link": true
    },
    "kaggle": {
      "accelerator": "none",
      "dataSources": [
        {
          "datasetId": 4626328,
          "sourceId": 7882142,
          "sourceType": "datasetVersion"
        }
      ],
      "dockerImageVersionId": 30702,
      "isGpuEnabled": false,
      "isInternetEnabled": true,
      "language": "python",
      "sourceType": "notebook"
    },
    "kernelspec": {
      "display_name": "Python 3",
      "name": "python3"
    },
    "language_info": {
      "codemirror_mode": {
        "name": "ipython",
        "version": 3
      },
      "file_extension": ".py",
      "mimetype": "text/x-python",
      "name": "python",
      "nbconvert_exporter": "python",
      "pygments_lexer": "ipython3",
      "version": "3.10.13"
    },
    "widgets": {
      "application/vnd.jupyter.widget-state+json": {
        "bb42c812f80a416686b0ef516056c8f4": {
          "model_module": "@jupyter-widgets/controls",
          "model_name": "HBoxModel",
          "model_module_version": "1.5.0",
          "state": {
            "_dom_classes": [],
            "_model_module": "@jupyter-widgets/controls",
            "_model_module_version": "1.5.0",
            "_model_name": "HBoxModel",
            "_view_count": null,
            "_view_module": "@jupyter-widgets/controls",
            "_view_module_version": "1.5.0",
            "_view_name": "HBoxView",
            "box_style": "",
            "children": [
              "IPY_MODEL_605f3929e7af4ed6862e990d1bd16e1c",
              "IPY_MODEL_05bc890dc0b741198fb0bd6960cbd051",
              "IPY_MODEL_773e8ace77c444469f9d8443f744c2b1"
            ],
            "layout": "IPY_MODEL_e263727d67bb476f806b777e2a9782c3"
          }
        },
        "605f3929e7af4ed6862e990d1bd16e1c": {
          "model_module": "@jupyter-widgets/controls",
          "model_name": "HTMLModel",
          "model_module_version": "1.5.0",
          "state": {
            "_dom_classes": [],
            "_model_module": "@jupyter-widgets/controls",
            "_model_module_version": "1.5.0",
            "_model_name": "HTMLModel",
            "_view_count": null,
            "_view_module": "@jupyter-widgets/controls",
            "_view_module_version": "1.5.0",
            "_view_name": "HTMLView",
            "description": "",
            "description_tooltip": null,
            "layout": "IPY_MODEL_e001a0aa127540118b40df9c41103d32",
            "placeholder": "​",
            "style": "IPY_MODEL_4938523291d0456894443309346f2db6",
            "value": "Map: 100%"
          }
        },
        "05bc890dc0b741198fb0bd6960cbd051": {
          "model_module": "@jupyter-widgets/controls",
          "model_name": "FloatProgressModel",
          "model_module_version": "1.5.0",
          "state": {
            "_dom_classes": [],
            "_model_module": "@jupyter-widgets/controls",
            "_model_module_version": "1.5.0",
            "_model_name": "FloatProgressModel",
            "_view_count": null,
            "_view_module": "@jupyter-widgets/controls",
            "_view_module_version": "1.5.0",
            "_view_name": "ProgressView",
            "bar_style": "success",
            "description": "",
            "description_tooltip": null,
            "layout": "IPY_MODEL_71393f00f07848d086aaf44b6c4a9ad0",
            "max": 475,
            "min": 0,
            "orientation": "horizontal",
            "style": "IPY_MODEL_575befa79a14449fbb87c563acd8fed7",
            "value": 475
          }
        },
        "773e8ace77c444469f9d8443f744c2b1": {
          "model_module": "@jupyter-widgets/controls",
          "model_name": "HTMLModel",
          "model_module_version": "1.5.0",
          "state": {
            "_dom_classes": [],
            "_model_module": "@jupyter-widgets/controls",
            "_model_module_version": "1.5.0",
            "_model_name": "HTMLModel",
            "_view_count": null,
            "_view_module": "@jupyter-widgets/controls",
            "_view_module_version": "1.5.0",
            "_view_name": "HTMLView",
            "description": "",
            "description_tooltip": null,
            "layout": "IPY_MODEL_e63e36e5d209448490fc2f31a09d5819",
            "placeholder": "​",
            "style": "IPY_MODEL_0d4ca36da5ac4e429cb220b1425fea9d",
            "value": " 475/475 [00:00&lt;00:00, 853.61 examples/s]"
          }
        },
        "e263727d67bb476f806b777e2a9782c3": {
          "model_module": "@jupyter-widgets/base",
          "model_name": "LayoutModel",
          "model_module_version": "1.2.0",
          "state": {
            "_model_module": "@jupyter-widgets/base",
            "_model_module_version": "1.2.0",
            "_model_name": "LayoutModel",
            "_view_count": null,
            "_view_module": "@jupyter-widgets/base",
            "_view_module_version": "1.2.0",
            "_view_name": "LayoutView",
            "align_content": null,
            "align_items": null,
            "align_self": null,
            "border": null,
            "bottom": null,
            "display": null,
            "flex": null,
            "flex_flow": null,
            "grid_area": null,
            "grid_auto_columns": null,
            "grid_auto_flow": null,
            "grid_auto_rows": null,
            "grid_column": null,
            "grid_gap": null,
            "grid_row": null,
            "grid_template_areas": null,
            "grid_template_columns": null,
            "grid_template_rows": null,
            "height": null,
            "justify_content": null,
            "justify_items": null,
            "left": null,
            "margin": null,
            "max_height": null,
            "max_width": null,
            "min_height": null,
            "min_width": null,
            "object_fit": null,
            "object_position": null,
            "order": null,
            "overflow": null,
            "overflow_x": null,
            "overflow_y": null,
            "padding": null,
            "right": null,
            "top": null,
            "visibility": null,
            "width": null
          }
        },
        "e001a0aa127540118b40df9c41103d32": {
          "model_module": "@jupyter-widgets/base",
          "model_name": "LayoutModel",
          "model_module_version": "1.2.0",
          "state": {
            "_model_module": "@jupyter-widgets/base",
            "_model_module_version": "1.2.0",
            "_model_name": "LayoutModel",
            "_view_count": null,
            "_view_module": "@jupyter-widgets/base",
            "_view_module_version": "1.2.0",
            "_view_name": "LayoutView",
            "align_content": null,
            "align_items": null,
            "align_self": null,
            "border": null,
            "bottom": null,
            "display": null,
            "flex": null,
            "flex_flow": null,
            "grid_area": null,
            "grid_auto_columns": null,
            "grid_auto_flow": null,
            "grid_auto_rows": null,
            "grid_column": null,
            "grid_gap": null,
            "grid_row": null,
            "grid_template_areas": null,
            "grid_template_columns": null,
            "grid_template_rows": null,
            "height": null,
            "justify_content": null,
            "justify_items": null,
            "left": null,
            "margin": null,
            "max_height": null,
            "max_width": null,
            "min_height": null,
            "min_width": null,
            "object_fit": null,
            "object_position": null,
            "order": null,
            "overflow": null,
            "overflow_x": null,
            "overflow_y": null,
            "padding": null,
            "right": null,
            "top": null,
            "visibility": null,
            "width": null
          }
        },
        "4938523291d0456894443309346f2db6": {
          "model_module": "@jupyter-widgets/controls",
          "model_name": "DescriptionStyleModel",
          "model_module_version": "1.5.0",
          "state": {
            "_model_module": "@jupyter-widgets/controls",
            "_model_module_version": "1.5.0",
            "_model_name": "DescriptionStyleModel",
            "_view_count": null,
            "_view_module": "@jupyter-widgets/base",
            "_view_module_version": "1.2.0",
            "_view_name": "StyleView",
            "description_width": ""
          }
        },
        "71393f00f07848d086aaf44b6c4a9ad0": {
          "model_module": "@jupyter-widgets/base",
          "model_name": "LayoutModel",
          "model_module_version": "1.2.0",
          "state": {
            "_model_module": "@jupyter-widgets/base",
            "_model_module_version": "1.2.0",
            "_model_name": "LayoutModel",
            "_view_count": null,
            "_view_module": "@jupyter-widgets/base",
            "_view_module_version": "1.2.0",
            "_view_name": "LayoutView",
            "align_content": null,
            "align_items": null,
            "align_self": null,
            "border": null,
            "bottom": null,
            "display": null,
            "flex": null,
            "flex_flow": null,
            "grid_area": null,
            "grid_auto_columns": null,
            "grid_auto_flow": null,
            "grid_auto_rows": null,
            "grid_column": null,
            "grid_gap": null,
            "grid_row": null,
            "grid_template_areas": null,
            "grid_template_columns": null,
            "grid_template_rows": null,
            "height": null,
            "justify_content": null,
            "justify_items": null,
            "left": null,
            "margin": null,
            "max_height": null,
            "max_width": null,
            "min_height": null,
            "min_width": null,
            "object_fit": null,
            "object_position": null,
            "order": null,
            "overflow": null,
            "overflow_x": null,
            "overflow_y": null,
            "padding": null,
            "right": null,
            "top": null,
            "visibility": null,
            "width": null
          }
        },
        "575befa79a14449fbb87c563acd8fed7": {
          "model_module": "@jupyter-widgets/controls",
          "model_name": "ProgressStyleModel",
          "model_module_version": "1.5.0",
          "state": {
            "_model_module": "@jupyter-widgets/controls",
            "_model_module_version": "1.5.0",
            "_model_name": "ProgressStyleModel",
            "_view_count": null,
            "_view_module": "@jupyter-widgets/base",
            "_view_module_version": "1.2.0",
            "_view_name": "StyleView",
            "bar_color": null,
            "description_width": ""
          }
        },
        "e63e36e5d209448490fc2f31a09d5819": {
          "model_module": "@jupyter-widgets/base",
          "model_name": "LayoutModel",
          "model_module_version": "1.2.0",
          "state": {
            "_model_module": "@jupyter-widgets/base",
            "_model_module_version": "1.2.0",
            "_model_name": "LayoutModel",
            "_view_count": null,
            "_view_module": "@jupyter-widgets/base",
            "_view_module_version": "1.2.0",
            "_view_name": "LayoutView",
            "align_content": null,
            "align_items": null,
            "align_self": null,
            "border": null,
            "bottom": null,
            "display": null,
            "flex": null,
            "flex_flow": null,
            "grid_area": null,
            "grid_auto_columns": null,
            "grid_auto_flow": null,
            "grid_auto_rows": null,
            "grid_column": null,
            "grid_gap": null,
            "grid_row": null,
            "grid_template_areas": null,
            "grid_template_columns": null,
            "grid_template_rows": null,
            "height": null,
            "justify_content": null,
            "justify_items": null,
            "left": null,
            "margin": null,
            "max_height": null,
            "max_width": null,
            "min_height": null,
            "min_width": null,
            "object_fit": null,
            "object_position": null,
            "order": null,
            "overflow": null,
            "overflow_x": null,
            "overflow_y": null,
            "padding": null,
            "right": null,
            "top": null,
            "visibility": null,
            "width": null
          }
        },
        "0d4ca36da5ac4e429cb220b1425fea9d": {
          "model_module": "@jupyter-widgets/controls",
          "model_name": "DescriptionStyleModel",
          "model_module_version": "1.5.0",
          "state": {
            "_model_module": "@jupyter-widgets/controls",
            "_model_module_version": "1.5.0",
            "_model_name": "DescriptionStyleModel",
            "_view_count": null,
            "_view_module": "@jupyter-widgets/base",
            "_view_module_version": "1.2.0",
            "_view_name": "StyleView",
            "description_width": ""
          }
        }
      }
    },
    "accelerator": "GPU"
  },
  "nbformat": 4,
  "nbformat_minor": 0
}